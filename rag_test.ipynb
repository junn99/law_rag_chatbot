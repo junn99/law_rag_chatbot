{
 "cells": [
  {
   "cell_type": "markdown",
   "metadata": {},
   "source": [
    "# rag.py의 class & 함수들을 테스트하는 파일\n",
    "- import하려면 같은 경로에 있어야하네"
   ]
  },
  {
   "cell_type": "code",
   "execution_count": 1,
   "metadata": {},
   "outputs": [
    {
     "data": {
      "text/plain": [
       "True"
      ]
     },
     "execution_count": 1,
     "metadata": {},
     "output_type": "execute_result"
    }
   ],
   "source": [
    "# API KEY를 환경변수로 관리하기 위한 설정 파일\n",
    "from dotenv import load_dotenv\n",
    "\n",
    "# API KEY 정보로드\n",
    "load_dotenv()"
   ]
  },
  {
   "cell_type": "code",
   "execution_count": 2,
   "metadata": {},
   "outputs": [],
   "source": [
    "import sys\n",
    "sys.path.append(\"/home/jun/my_project/Low_RAG_PJ\")"
   ]
  },
  {
   "cell_type": "code",
   "execution_count": 4,
   "metadata": {},
   "outputs": [
    {
     "name": "stdout",
     "output_type": "stream",
     "text": [
      "/home/jun/my_project/Law_RAG_PJ\n"
     ]
    }
   ],
   "source": [
    "!pwd"
   ]
  },
  {
   "cell_type": "code",
   "execution_count": 5,
   "metadata": {},
   "outputs": [
    {
     "data": {
      "text/plain": [
       "'보증금 회수를 위해서는 몇 가지 절차를 밟아야 합니다. \\n\\n첫째, 기존 계약서를 확인하여 보증금에 대한 조항을 살펴보세요. 계약서에 보증금을 돌려받는 조건이나 절차가 명시되어 있는 경우, 그에 따라 진행해야 합니다.\\n\\n둘째, 계약 상대방에게 보증금을 돌려받을 것을 요구하는 내용의 통지를 발송합니다. 이 때, 통지書의 접수 여부를 확인하고, 상대방의 연락처를 확인하여 통지를 발송할 수 있습니다.\\n\\n셋째, 상대방이 보증금을 돌려받지 않을 경우, 법적 조치를 취할 수 있습니다. 보증금 회수를 위한 법적 조치는 계약 불이행에 따른 손해배상 청구나 계약해지를 청구하는 것입니다.\\n\\n따라서, 보증금 회수를 위해서는 계약서를 확인하고, 상대방에게 통지를 발송하고, 상대방의 응답을 확인하여 법적 조치를 취할 준비를 하세요.\\n\\n추가적으로, 법적 조치를 취하기 전에, 계약 상대방과 협의하여 화해를 시도하는 것도 좋은 방법입니다. 계약 상대방과의 협의를 통해 보증금 회수를 위한 합의를 이끌어 내는 것이 가능할 수도 있습니다.'"
      ]
     },
     "execution_count": 5,
     "metadata": {},
     "output_type": "execute_result"
    }
   ],
   "source": [
    "# from law_rag import CHROMARAG\n",
    "# from langchain_groq import ChatGroq\n",
    "\n",
    "# # PDFRAG 객체 생성\n",
    "# rag = CHROMARAG(\n",
    "#     \"/home/jun/my_project/Low_RAG_PJ/low\",\n",
    "#     ChatGroq(model=\"llama-3.1-70b-versatile\"),\n",
    "# )\n",
    "\n",
    "# # 검색기(retriever) 생성\n",
    "# retriever = rag.create_retriever()\n",
    "\n",
    "# # 체인(chain) 생성\n",
    "# chain = rag.create_chain(retriever)\n",
    "\n",
    "# # 질문에 대한 답변 생성\n",
    "# chain.invoke(\"보증금 회수는 어떻게 해?\")"
   ]
  },
  {
   "cell_type": "code",
   "execution_count": 3,
   "metadata": {},
   "outputs": [
    {
     "name": "stdout",
     "output_type": "stream",
     "text": [
      "[init_pinecone_index]\n",
      "{'dimension': 1024,\n",
      " 'index_fullness': 0.0,\n",
      " 'namespaces': {'law-pdf-hypersearch_rag': {'vector_count': 2139}},\n",
      " 'total_vector_count': 2139}\n"
     ]
    }
   ],
   "source": [
    "import sys\n",
    "sys.path.append(\"/home/jun/my_project/Low_RAG_PJ\")\n",
    "\n",
    "from law_rag import PINECONERAG, PineconeRAG_Rerank\n",
    "from langchain_groq import ChatGroq\n",
    "\n",
    "# CHROMARAG 객체 생성\n",
    "rag = PineconeRAG_Rerank(ChatGroq(model=\"llama-3.2-11b-text-preview\",temperature=0)) # gemma2-9b-it\n",
    "\n",
    "# 검색기(retriever) 생성\n",
    "retriever = rag.create_retriever()\n",
    "\n",
    "# # 체인(chain) 생성\n",
    "# chain = rag.create_chain(retriever)\n",
    "\n",
    "# 질문에 대한 답변 생성\n",
    "# chain.invoke(\"임차권등기명령은 어떻게 해?\")"
   ]
  },
  {
   "cell_type": "code",
   "execution_count": 5,
   "metadata": {},
   "outputs": [
    {
     "data": {
      "text/plain": [
       "'임차권등기명령은 임차인이 임대인에게 보증금을 반환받지 못한 경우, 임차권을 등기하여 대항력을 취득하고 우선변제권을 행사할 수 있도록 하는 법적 절차입니다.\\n\\n임차권등기명령의 신청은 임차인이 임차주택의 소재지를 관할하는 지방법원, 지방법원지원 또는 시·군 법원에 신청할 수 있습니다. 신청서에는 다음 사항을 적어야 하며, 신청의 이유와 임차권등기의 원인이 된 사실을 소명하여야 합니다.\\n\\n1. 신청의 취지 및 이유\\n2. 임대차의 목적인 주택(임대차의 목적이 주택의 일부분인 경우에는 해당 부분의 도면을 첨부한다)\\n3. 임차권등기의 원인이 된 사실(임차인이 제3조제1항·제2항 또는 제3항에 따른 대항력을 취득하였거나 제3조의2제2항에 따른 우선변제권을 취득한 경우에는 그 사실)\\n4. 그 밖에 대법원규칙으로 정하는 사항\\n\\n임차권등기명령의 신청을 받은 법원은 신청의 취지와 이유를 검토하고, 임차권등기의 원인이 된 사실을 확인하여야 합니다. 법원은 임차권등기명령을 결정할 수 있으며, 임차인이 임차권등기명령의 집행에 따른 임차권등기를 마치면 제3조제1항·제2항 또는 제3항에 따른 대항력과 제3조의2제2항에 따른 우선변제권을 취득할 수 있습니다.\\n\\n또한, 금융기관 등은 임차인을 대위하여 임차권등기명령을 신청할 수 있으며, 이 경우 제3항·제4항 및 제8항의 규정에 따라야 합니다.\\n\\n따라서, 임차권등기명령은 임차인이 임대인에게 보증금을 반환받지 못한 경우, 임차권을 등기하여 대항력을 취득하고 우선변제권을 행사할 수 있도록 하는 법적 절차입니다.'"
      ]
     },
     "execution_count": 5,
     "metadata": {},
     "output_type": "execute_result"
    }
   ],
   "source": [
    "# # 체인(chain) 생성\n",
    "chain = rag.create_chain(retriever)\n",
    "\n",
    "# 질문에 대한 답변 생성\n",
    "chain.invoke(\"임차권등기명령은 어떻게 해?\")"
   ]
  },
  {
   "cell_type": "code",
   "execution_count": 6,
   "metadata": {},
   "outputs": [
    {
     "name": "stdout",
     "output_type": "stream",
     "text": [
      "안녕하세요. 저는 법률상담사입니다. \n",
      "\n",
      "제가 이해한 바에 따르면, 보일러가 고장 났을 때, 집주인은 임차인인 당신에게 고치라고 하셨습니다. 하지만 당신은 어쩔 수 없이 돈을 들여 보일러를 고쳤습니다. \n",
      "\n",
      "이 경우, 임차인이 보일러를 고쳐야 하는지 여부는 민법 제627조에 따라 결정됩니다. 민법 제627조는 임차물의 일부가 임차인의 과실없이 멸실 기타 사유로 인하여 사용, 수익할 수 없는 때에는 임차인이 그 부분의 비율에 의한 차임의 감액을 청구할 수 있으며, 그 잔존부분으로 임차의 목적을 달성할 수 없는 때에는 임차인이 계약을 해지할 수 있다고 규정하고 있습니다.\n",
      "\n",
      "그러나, 보일러의 고장이 임차인의 과실없이 발생한 경우에는 임차인이 보일러를 고쳐야 하는 것이 아닙니다. 보일러의 고장은 일반적으로 임차물의 일부가 멸실 기타 사유로 인하여 사용, 수익할 수 없는 경우에 해당하지 않습니다.\n",
      "\n",
      "따라서, 당신은 보일러를 고쳐야 하는 것이 아닙니다. 하지만, 집주인은 보일러의 고장을 임차인의 과실로 여기는 경우, 임차인에게 보일러를 고치라고 요구할 수 있습니다. 이 경우, 당신은 보일러를 고치지 않으면 계약을 해지할 수 있습니다.\n",
      "\n",
      "또한, 당신은 보일러를 고치지 않은 경우, 임차물의 일부가 멸실 기타 사유로 인하여 사용, 수익할 수 없는 경우에 해당할 수 있습니다. 이 경우, 당신은 차임의 감액을 청구할 수 있습니다.\n",
      "\n",
      "따라서, 당신은 보일러를 고치지 않으면 계약을 해지할 수 있으며, 차임의 감액을 청구할 수 있습니다. 하지만, 집주인은 보일러의 고장을 임차인의 과실로 여기는 경우, 임차인에게 보일러를 고치라고 요구할 수 있습니다.\n",
      "\n",
      "이러한 경우, 당신은 법률상담사와 상담하여 정확한 법적 조언을 받는 것이 좋습니다.\n"
     ]
    }
   ],
   "source": [
    "print(chain.invoke(\"보일러가 고장이 났는데 집주인은 임차인인 제가 고치는 것이라고 하여 어쩔 수 없이 제 돈으로 보일러를 고쳤는데, 이런 경우에도 임차인이 고쳐야 하나요?\"))"
   ]
  },
  {
   "cell_type": "code",
   "execution_count": 9,
   "metadata": {},
   "outputs": [
    {
     "name": "stdout",
     "output_type": "stream",
     "text": [
      "제가 법률 상담자로서 답변드리겠습니다.\n",
      "\n",
      "보일러가 고장이 났을 때, 집주인은 임차인인 당신에게 고치라고 하여 어쩔 수 없이 당신이 돈을 들여 고쳤을 경우, 임차인이 고쳐야 하는지 여부는 민법 제626조에 따라 결정됩니다.\n",
      "\n",
      "민법 제626조 제1항은 \"임차인이 임차물의 보존에 관한 필요비를 지출한 때에는 임대인에 대하여 그 상환을 청구할 수 있다.\"고 규정하고 있습니다. 이 규정은 임차인이 임차물의 보존에 관한 필요비를 지출한 경우, 임대인에게 그 상환을 청구할 수 있는 권리를 부여합니다.\n",
      "\n",
      "그러나, 보일러의 고장에 대한 책임은 집주인에게 있으므로, 당신은 집주인에게 보일러의 고장에 대한 책임을 청구할 수 있습니다. 또한, 당신은 보일러를 고치기 위해 지출한 비용을 집주인에게 청구할 수 있습니다.\n",
      "\n",
      "따라서, 보일러가 고장이 났을 때, 집주인은 임차인인 당신에게 고치라고 하여 어쩔 수 없이 당신이 돈을 들여 고쳤을 경우, 임차인이 고쳐야 하는 것은 아니며, 집주인에게 책임을 청구할 수 있습니다.\n",
      "\n",
      "하지만, 집주인이 임차인인 당신에게 고치라고 하여 어쩔 수 없이 당신이 돈을 들여 고쳤을 경우, 임차인이 고쳐야 하는 경우도 있습니다. 예를 들어, 집주인이 임차인인 당신에게 고치라고 하여 어쩔 수 없이 당신이 돈을 들여 고쳤을 때, 집주인이 그 사실을 알지 못한 경우, 또는 집주인이 그 사실을 알았지만 고치지 않은 경우, 임차인이 고쳐야 합니다.\n",
      "\n",
      "따라서, 보일러가 고장이 났을 때, 집주인은 임차인인 당신에게 고치라고 하여 어쩔 수 없이 당신이 돈을 들여 고쳤을 경우, 임차인이 고쳐야 하는지 여부는 민법 제626조와 관련된 법적 규정에 따라 결정됩니다.\n"
     ]
    }
   ],
   "source": [
    "print('제가 법률 상담자로서 답변드리겠습니다.\\n\\n보일러가 고장이 났을 때, 집주인은 임차인인 당신에게 고치라고 하여 어쩔 수 없이 당신이 돈을 들여 고쳤을 경우, 임차인이 고쳐야 하는지 여부는 민법 제626조에 따라 결정됩니다.\\n\\n민법 제626조 제1항은 \"임차인이 임차물의 보존에 관한 필요비를 지출한 때에는 임대인에 대하여 그 상환을 청구할 수 있다.\"고 규정하고 있습니다. 이 규정은 임차인이 임차물의 보존에 관한 필요비를 지출한 경우, 임대인에게 그 상환을 청구할 수 있는 권리를 부여합니다.\\n\\n그러나, 보일러의 고장에 대한 책임은 집주인에게 있으므로, 당신은 집주인에게 보일러의 고장에 대한 책임을 청구할 수 있습니다. 또한, 당신은 보일러를 고치기 위해 지출한 비용을 집주인에게 청구할 수 있습니다.\\n\\n따라서, 보일러가 고장이 났을 때, 집주인은 임차인인 당신에게 고치라고 하여 어쩔 수 없이 당신이 돈을 들여 고쳤을 경우, 임차인이 고쳐야 하는 것은 아니며, 집주인에게 책임을 청구할 수 있습니다.\\n\\n하지만, 집주인이 임차인인 당신에게 고치라고 하여 어쩔 수 없이 당신이 돈을 들여 고쳤을 경우, 임차인이 고쳐야 하는 경우도 있습니다. 예를 들어, 집주인이 임차인인 당신에게 고치라고 하여 어쩔 수 없이 당신이 돈을 들여 고쳤을 때, 집주인이 그 사실을 알지 못한 경우, 또는 집주인이 그 사실을 알았지만 고치지 않은 경우, 임차인이 고쳐야 합니다.\\n\\n따라서, 보일러가 고장이 났을 때, 집주인은 임차인인 당신에게 고치라고 하여 어쩔 수 없이 당신이 돈을 들여 고쳤을 경우, 임차인이 고쳐야 하는지 여부는 민법 제626조와 관련된 법적 규정에 따라 결정됩니다.'\n",
    ")"
   ]
  },
  {
   "cell_type": "code",
   "execution_count": 6,
   "metadata": {},
   "outputs": [
    {
     "name": "stderr",
     "output_type": "stream",
     "text": [
      "/home/jun/.conda/envs/chromagroq/lib/python3.11/site-packages/sentence_transformers/cross_encoder/CrossEncoder.py:13: TqdmExperimentalWarning: Using `tqdm.autonotebook.tqdm` in notebook mode. Use `tqdm.tqdm` instead to force console mode (e.g. in jupyter console)\n",
      "  from tqdm.autonotebook import tqdm, trange\n"
     ]
    },
    {
     "data": {
      "text/plain": [
       "'삼성 가우스'"
      ]
     },
     "execution_count": 6,
     "metadata": {},
     "output_type": "execute_result"
    }
   ],
   "source": [
    "from myrag import PDFRAG\n",
    "from langchain_groq import ChatGroq\n",
    "\n",
    "# PDFRAG 객체 생성\n",
    "rag = PDFRAG(\n",
    "    \"/home/jun/my_project/langchain_tutorial/langsmith/data/SPRI_AI_Brief_2023년12월호_F (1).pdf\",\n",
    "    ChatGroq(model=\"llama-3.1-70b-versatile\", temperature=0),\n",
    ")\n",
    "\n",
    "# 검색기(retriever) 생성\n",
    "retriever = rag.create_retriever()\n",
    "\n",
    "# 체인(chain) 생성\n",
    "chain = rag.create_chain(retriever)\n",
    "\n",
    "# 질문에 대한 답변 생성\n",
    "chain.invoke(\"삼성전자가 자체 개발한 생성형 AI의 이름은 무엇인가요?\")"
   ]
  }
 ],
 "metadata": {
  "kernelspec": {
   "display_name": "chromagroq",
   "language": "python",
   "name": "python3"
  },
  "language_info": {
   "codemirror_mode": {
    "name": "ipython",
    "version": 3
   },
   "file_extension": ".py",
   "mimetype": "text/x-python",
   "name": "python",
   "nbconvert_exporter": "python",
   "pygments_lexer": "ipython3",
   "version": "3.11.9"
  }
 },
 "nbformat": 4,
 "nbformat_minor": 2
}
