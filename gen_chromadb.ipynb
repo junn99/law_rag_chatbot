{
 "cells": [
  {
   "cell_type": "markdown",
   "metadata": {},
   "source": [
    "# 처음 문서들을 임베딩하여 DB에 저장하는 파일\n",
    "- 처음 한 번만 실행하면 됨"
   ]
  },
  {
   "cell_type": "markdown",
   "metadata": {},
   "source": [
    "# 1. Loader"
   ]
  },
  {
   "cell_type": "markdown",
   "metadata": {},
   "source": [
    "## DirectoryLoader + PDFPlumberLoader\n",
    "- 범용성과 가장 성능이 좋은 로더 결합"
   ]
  },
  {
   "cell_type": "markdown",
   "metadata": {},
   "source": [
    "### DirectoryLoader\n",
    "상대경로? 절대경로?\n",
    "- .하나 : 현재경로 -> ./(동일폴더)\n",
    "- .. : 상위경로 -> ../(상위폴더)"
   ]
  },
  {
   "cell_type": "markdown",
   "metadata": {},
   "source": [
    "### PDFPlumberLoader\n",
    "- 가장 깔끔하게 pdf내용들을 가져옴\n",
    "- 날짜 표시\n",
    "- 전체 페이지 표시"
   ]
  },
  {
   "cell_type": "code",
   "execution_count": 1,
   "metadata": {},
   "outputs": [
    {
     "name": "stderr",
     "output_type": "stream",
     "text": [
      "100%|██████████| 10/10 [00:16<00:00,  1.61s/it]\n"
     ]
    },
    {
     "data": {
      "text/plain": [
       "317"
      ]
     },
     "execution_count": 1,
     "metadata": {},
     "output_type": "execute_result"
    }
   ],
   "source": [
    "from langchain_community.document_loaders import DirectoryLoader\n",
    "from langchain_community.document_loaders import PDFPlumberLoader\n",
    "\n",
    "\n",
    "# 디렉토리로더 초기화\n",
    "loader = DirectoryLoader(\"./data\", glob=\"**/*.pdf\",loader_cls=PDFPlumberLoader, show_progress=True)\n",
    "    # ./는 현재 디렉토리를 의미하고, 그 하위에 있는 'data' 폴더\n",
    "    # glob는 파일을 검색할 때 사용할 패턴   \n",
    "    # **/는 모든 하위 디렉토리\n",
    "    # *.pdf는 확장자가 .pdf인 모든 파일\n",
    "\n",
    "# 문서 로드\n",
    "docs = loader.load()\n",
    "\n",
    "# 문서 개수 계산\n",
    "len(docs)"
   ]
  },
  {
   "cell_type": "markdown",
   "metadata": {},
   "source": [
    "# 2. Splitter"
   ]
  },
  {
   "cell_type": "markdown",
   "metadata": {},
   "source": [
    "## RecursiveCharacterTextSplitter"
   ]
  },
  {
   "cell_type": "code",
   "execution_count": 2,
   "metadata": {},
   "outputs": [
    {
     "name": "stdout",
     "output_type": "stream",
     "text": [
      "2139\n"
     ]
    }
   ],
   "source": [
    "from langchain.text_splitter import RecursiveCharacterTextSplitter\n",
    "\n",
    "text_splitter = RecursiveCharacterTextSplitter(chunk_size=300, chunk_overlap=50)\n",
    "\n",
    "split_docs = text_splitter.split_documents(docs)\n",
    "\n",
    "print(len(split_docs))"
   ]
  },
  {
   "cell_type": "markdown",
   "metadata": {},
   "source": [
    "# 3. Embedding"
   ]
  },
  {
   "cell_type": "code",
   "execution_count": 3,
   "metadata": {},
   "outputs": [
    {
     "name": "stderr",
     "output_type": "stream",
     "text": [
      "/home/jun/.conda/envs/chromagroq/lib/python3.11/site-packages/sentence_transformers/cross_encoder/CrossEncoder.py:13: TqdmExperimentalWarning: Using `tqdm.autonotebook.tqdm` in notebook mode. Use `tqdm.tqdm` instead to force console mode (e.g. in jupyter console)\n",
      "  from tqdm.autonotebook import tqdm, trange\n"
     ]
    }
   ],
   "source": [
    "# 단계 3: 임베딩(Embedding) 생성\n",
    "from langchain_community.embeddings import HuggingFaceBgeEmbeddings\n",
    "\n",
    "model_name = \"BAAI/bge-m3\"\n",
    "model_kwargs = {\"device\":\"cpu\"}\n",
    "encode_kwargs = {\"normalize_embeddings\":True}\n",
    "\n",
    "embeddings = HuggingFaceBgeEmbeddings(\n",
    "    model_name=model_name, model_kwargs=model_kwargs,encode_kwargs=encode_kwargs)"
   ]
  },
  {
   "cell_type": "markdown",
   "metadata": {},
   "source": [
    "# 4. VectorDB"
   ]
  },
  {
   "cell_type": "markdown",
   "metadata": {},
   "source": [
    "## Chroma"
   ]
  },
  {
   "cell_type": "code",
   "execution_count": 4,
   "metadata": {},
   "outputs": [],
   "source": [
    "from langchain_chroma import Chroma\n",
    "\n",
    "\n",
    "db = Chroma.from_documents(documents=split_docs, embedding=embeddings,\n",
    "                           collection_name=\"Low_chroma_300chunk_db\", persist_directory=\"./low\")\n",
    "# collection_name : Low_chroma_db , Low_chroma_300chunk_db\n",
    "# collection_name : 폴더의 개념\n",
    "# persist_directory : 이 경로로 저장 -> 차후 다시 사용가능"
   ]
  },
  {
   "cell_type": "markdown",
   "metadata": {},
   "source": [
    "# 5. Retriever\n",
    "잘 됐는지 확인"
   ]
  },
  {
   "cell_type": "code",
   "execution_count": 5,
   "metadata": {},
   "outputs": [],
   "source": [
    "ans = db.similarity_search(\"보증금 회수 어떻게 해?\",k=2) "
   ]
  },
  {
   "cell_type": "code",
   "execution_count": 6,
   "metadata": {},
   "outputs": [
    {
     "name": "stdout",
     "output_type": "stream",
     "text": [
      "공하거나 보증인을 면책하게 함으로써 그 배상의무를 면할 수 있다.\n",
      "제444조(부탁없는 보증인의 구상권) ①주채무자의 부탁없이 보증인이 된 자가 변제 기타 자기의 출재로 주채무를 소멸\n",
      "하게 한 때에는 주채무자는 그 당시에 이익을 받은 한도에서 배상하여야 한다.\n",
      "②주채무자의 의사에 반하여 보증인이 된 자가 변제 기타 자기의 출재로 주채무를 소멸하게 한 때에는 주채무자는\n",
      "현존이익의 한도에서 배상하여야 한다.\n",
      "③전항의 경우에 주채무자가 구상한 날 이전에 상계원인이 있음을 주장한 때에는 그 상계로 소멸할 채권은 보증인\n",
      "에게 이전된다.\n"
     ]
    }
   ],
   "source": [
    "print(ans[0].page_content)"
   ]
  },
  {
   "cell_type": "code",
   "execution_count": 7,
   "metadata": {},
   "outputs": [
    {
     "name": "stdout",
     "output_type": "stream",
     "text": [
      "으로 본다.<개정 2013. 8. 13.>\n",
      "⑤ 이 법에 따라 임대차의 목적이 된 주택이 매매나 경매의 목적물이 된 경우에는 「민법」 제575조제1항ㆍ제3항 및\n",
      "같은 법 제578조를 준용한다.<개정 2013. 8. 13.>\n",
      "⑥ 제5항의 경우에는 동시이행의 항변권(抗辯權)에 관한 「민법」 제536조를 준용한다.<개정 2013. 8. 13.>\n",
      "[전문개정 2008. 3. 21.]\n",
      "제3조의2(보증금의 회수) ① 임차인(제3조제2항 및 제3항의 법인을 포함한다. 이하 같다)이 임차주택에 대하여 보증금\n"
     ]
    }
   ],
   "source": [
    "print(ans[1].page_content)"
   ]
  },
  {
   "cell_type": "markdown",
   "metadata": {},
   "source": [
    "#### Ref\n",
    "- [법률데이터(pdf)](https://www.easylaw.go.kr/CSP/SysChartRetrievePLst.laf?csmSeq=629) <- 생활법률"
   ]
  }
 ],
 "metadata": {
  "kernelspec": {
   "display_name": "chromagroq",
   "language": "python",
   "name": "python3"
  },
  "language_info": {
   "codemirror_mode": {
    "name": "ipython",
    "version": 3
   },
   "file_extension": ".py",
   "mimetype": "text/x-python",
   "name": "python",
   "nbconvert_exporter": "python",
   "pygments_lexer": "ipython3",
   "version": "3.11.9"
  }
 },
 "nbformat": 4,
 "nbformat_minor": 2
}
