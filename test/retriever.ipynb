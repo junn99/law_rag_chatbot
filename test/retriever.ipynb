{
 "cells": [
  {
   "cell_type": "markdown",
   "metadata": {},
   "source": [
    "# 키워드 + 의미 + 한국어 형태소를 결합한 Ratriever"
   ]
  },
  {
   "cell_type": "code",
   "execution_count": null,
   "metadata": {},
   "outputs": [],
   "source": [
    "from law_rag import CHROMARAG_PROMPT_YAML\n",
    "from langchain_groq import ChatGroq\n",
    "\n",
    "# CHROMARAG 객체 생성\n",
    "rag = CHROMARAG_PROMPT_YAML(\n",
    "    \"/home/jun/my_project/Law_RAG_PJ/law\",\n",
    "    ChatGroq(model=\"llama-3.2-11b-text-preview\",temperature=0), # gemma2-9b-it\t\n",
    ")\n",
    "\n",
    "# 검색기(retriever) 생성\n",
    "retriever = rag.create_retriever()\n",
    "\n",
    "# 체인(chain) 생성\n",
    "chain = rag.create_chain(retriever)\n",
    "\n",
    "# 질문에 대한 답변 생성\n",
    "# chain.invoke(\"임차권등기명령은 어떻게 해?\")"
   ]
  },
  {
   "cell_type": "code",
   "execution_count": null,
   "metadata": {},
   "outputs": [],
   "source": []
  }
 ],
 "metadata": {
  "kernelspec": {
   "display_name": "chromagroq",
   "language": "python",
   "name": "python3"
  },
  "language_info": {
   "codemirror_mode": {
    "name": "ipython",
    "version": 3
   },
   "file_extension": ".py",
   "mimetype": "text/x-python",
   "name": "python",
   "nbconvert_exporter": "python",
   "pygments_lexer": "ipython3",
   "version": "3.11.9"
  }
 },
 "nbformat": 4,
 "nbformat_minor": 2
}
